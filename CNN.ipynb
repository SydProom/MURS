{
 "cells": [
  {
   "cell_type": "code",
   "execution_count": 1,
   "id": "2e6e5065",
   "metadata": {},
   "outputs": [],
   "source": [
    "# Python ≥3.5 is required, this cell ensures all required packages are imported and a GPU is detected (if available).\n",
    "import sys\n",
    "assert sys.version_info >= (3, 5)\n",
    "\n",
    "# Is this notebook running on Colab or Kaggle?\n",
    "IS_COLAB = \"google.colab\" in sys.modules\n",
    "IS_KAGGLE = \"kaggle_secrets\" in sys.modules\n",
    "\n",
    "# Scikit-Learn ≥0.20 is required\n",
    "import sklearn\n",
    "assert sklearn.__version__ >= \"0.20\"\n",
    "\n",
    "# TensorFlow ≥2.0 is required\n",
    "import tensorflow as tf\n",
    "from tensorflow import keras\n",
    "assert tf.__version__ >= \"2.0\"\n",
    "\n",
    "#if not tf.config.list_physical_devices('GPU'): # GPU detection\n",
    "#    print(\"No GPU was detected. CNNs can be very slow without a GPU.\")\n",
    "#    if IS_COLAB:\n",
    "#        print(\"Go to Runtime > Change runtime and select a GPU hardware accelerator.\")\n",
    "#    if IS_KAGGLE:\n",
    "#        print(\"Go to Settings > Accelerator and select GPU.\")\n",
    "        \n",
    "\n",
    "# Common imports\n",
    "import numpy as np\n",
    "import os, sys\n",
    "import pandas as pd\n",
    "import glob\n",
    "import cv2\n",
    "import matplotlib.pyplot as plt\n",
    "from matplotlib import image\n",
    "from matplotlib import pyplot\n",
    "import json\n",
    "import PIL.Image\n",
    "import pathlib\n",
    "import pickle\n",
    "import random\n",
    "from tensorflow import keras as K\n",
    "import h5py\n",
    "import random\n",
    "import torch\n",
    "import os\n",
    "from IPython.display import Image, clear_output  # to display images\n",
    "os.environ[\"CUDA_VISIBLE_DEVICES\"] = \"1\"\n",
    "\n",
    "# To make this notebook's output stable across runs \n",
    "np.random.seed(788203)\n",
    "tf.random.set_seed(788203)\n",
    "random.seed(788203)"
   ]
  },
  {
   "cell_type": "code",
   "execution_count": 2,
   "id": "9844f650",
   "metadata": {
    "scrolled": true
   },
   "outputs": [],
   "source": [
    "import numpy as np\n",
    "import keras\n",
    "from keras.datasets import mnist\n",
    "from keras.models import Model\n",
    "from keras.layers import Dense, Input\n",
    "from keras.layers import Conv2D, MaxPooling2D, Dropout, Flatten\n",
    "from keras import backend as k\n",
    "from keras.utils.np_utils import to_categorical\n",
    "import tensorflow as tf"
   ]
  },
  {
   "cell_type": "code",
   "execution_count": 3,
   "id": "81b54830",
   "metadata": {},
   "outputs": [],
   "source": [
    "(x_train, y_train), (x_test, y_test) = mnist.load_data()"
   ]
  },
  {
   "cell_type": "code",
   "execution_count": 4,
   "id": "d525764c",
   "metadata": {
    "scrolled": true
   },
   "outputs": [],
   "source": [
    "img_rows, img_cols=28, 28\n",
    " \n",
    "if k.image_data_format() == 'channels_first':\n",
    "    x_train = x_train.reshape(x_train.shape[0], 1, img_rows, img_cols)\n",
    "    x_test = x_test.reshape(x_test.shape[0], 1, img_rows, img_cols)\n",
    "    inpx = (1, img_rows, img_cols)\n",
    " \n",
    "else:\n",
    "    x_train = x_train.reshape(x_train.shape[0], img_rows, img_cols, 1)\n",
    "    x_test = x_test.reshape(x_test.shape[0], img_rows, img_cols, 1)\n",
    "    inpx = (img_rows, img_cols, 1)\n",
    " \n",
    "x_train = x_train.astype('float32')\n",
    "x_test = x_test.astype('float32')\n",
    "x_train /= 255\n",
    "x_test /= 255"
   ]
  },
  {
   "cell_type": "code",
   "execution_count": 5,
   "id": "8d6fab49",
   "metadata": {},
   "outputs": [],
   "source": [
    "from tensorflow.keras.models import Sequential\n",
    "from tensorflow.keras.layers import Dense, Dropout, Activation, Flatten, Conv2D, MaxPooling2D, Input, AveragePooling2D\n",
    "\n",
    "model = keras.Sequential()\n",
    "\n",
    "model.add(Conv2D(filters=6, kernel_size=(3, 3), activation='relu'))\n",
    "model.add(AveragePooling2D())\n",
    "\n",
    "model.add(Conv2D(filters=16, kernel_size=(3, 3), activation='relu'))\n",
    "model.add(AveragePooling2D())\n",
    "\n",
    "model.add(Flatten()) \n",
    "\n",
    "model.add(Dense(units=120, activation='relu'))\n",
    "\n",
    "model.add(Dense(units=84, activation='relu'))\n",
    "\n",
    "model.add(Dense(units=10, activation = 'softmax'))\n",
    "\n",
    "model.compile(loss=\"sparse_categorical_crossentropy\", optimizer=\"Adam\", metrics=['accuracy'])"
   ]
  },
  {
   "cell_type": "code",
   "execution_count": 6,
   "id": "4dc212a6",
   "metadata": {
    "scrolled": false
   },
   "outputs": [
    {
     "name": "stdout",
     "output_type": "stream",
     "text": [
      "Epoch 1/24\n",
      "960/960 [==============================] - 6s 3ms/step - loss: 0.3112 - accuracy: 0.9110 - val_loss: 0.1174 - val_accuracy: 0.9636\n",
      "Epoch 2/24\n",
      "960/960 [==============================] - 2s 2ms/step - loss: 0.1003 - accuracy: 0.9696 - val_loss: 0.0859 - val_accuracy: 0.9744\n",
      "Epoch 3/24\n",
      "960/960 [==============================] - 2s 2ms/step - loss: 0.0710 - accuracy: 0.9779 - val_loss: 0.0718 - val_accuracy: 0.9788\n",
      "Epoch 4/24\n",
      "960/960 [==============================] - 2s 3ms/step - loss: 0.0555 - accuracy: 0.9822 - val_loss: 0.0627 - val_accuracy: 0.9808\n",
      "Epoch 5/24\n",
      "960/960 [==============================] - 2s 2ms/step - loss: 0.0460 - accuracy: 0.9854 - val_loss: 0.0529 - val_accuracy: 0.9839\n",
      "Epoch 6/24\n",
      "960/960 [==============================] - 2s 2ms/step - loss: 0.0368 - accuracy: 0.9881 - val_loss: 0.0604 - val_accuracy: 0.9827\n",
      "Epoch 7/24\n",
      "960/960 [==============================] - 2s 2ms/step - loss: 0.0337 - accuracy: 0.9893 - val_loss: 0.0495 - val_accuracy: 0.9855\n",
      "Epoch 8/24\n",
      "960/960 [==============================] - 2s 3ms/step - loss: 0.0291 - accuracy: 0.9904 - val_loss: 0.0498 - val_accuracy: 0.9860\n",
      "Epoch 9/24\n",
      "960/960 [==============================] - 2s 2ms/step - loss: 0.0237 - accuracy: 0.9925 - val_loss: 0.0478 - val_accuracy: 0.9873\n",
      "Epoch 10/24\n",
      "960/960 [==============================] - 2s 2ms/step - loss: 0.0214 - accuracy: 0.9927 - val_loss: 0.0499 - val_accuracy: 0.9868\n",
      "Epoch 11/24\n",
      "960/960 [==============================] - 2s 2ms/step - loss: 0.0190 - accuracy: 0.9935 - val_loss: 0.0540 - val_accuracy: 0.9867\n",
      "Epoch 12/24\n",
      "960/960 [==============================] - 3s 3ms/step - loss: 0.0155 - accuracy: 0.9950 - val_loss: 0.0512 - val_accuracy: 0.9866\n",
      "Epoch 13/24\n",
      "960/960 [==============================] - 2s 2ms/step - loss: 0.0135 - accuracy: 0.9955 - val_loss: 0.0513 - val_accuracy: 0.9864\n",
      "Epoch 14/24\n",
      "960/960 [==============================] - 2s 2ms/step - loss: 0.0125 - accuracy: 0.9957 - val_loss: 0.0517 - val_accuracy: 0.9882\n",
      "Epoch 15/24\n",
      "960/960 [==============================] - 2s 3ms/step - loss: 0.0109 - accuracy: 0.9963 - val_loss: 0.0547 - val_accuracy: 0.9875\n",
      "Epoch 16/24\n",
      "960/960 [==============================] - 2s 3ms/step - loss: 0.0098 - accuracy: 0.9968 - val_loss: 0.0575 - val_accuracy: 0.9867\n",
      "Epoch 17/24\n",
      "960/960 [==============================] - 2s 2ms/step - loss: 0.0100 - accuracy: 0.9965 - val_loss: 0.0653 - val_accuracy: 0.9846\n",
      "Epoch 18/24\n",
      "960/960 [==============================] - 3s 3ms/step - loss: 0.0079 - accuracy: 0.9971 - val_loss: 0.0747 - val_accuracy: 0.9849\n",
      "Epoch 19/24\n",
      "960/960 [==============================] - 2s 2ms/step - loss: 0.0082 - accuracy: 0.9971 - val_loss: 0.0668 - val_accuracy: 0.9866\n",
      "Epoch 20/24\n",
      "960/960 [==============================] - 2s 2ms/step - loss: 0.0078 - accuracy: 0.9974 - val_loss: 0.0569 - val_accuracy: 0.9853\n",
      "Epoch 21/24\n",
      "960/960 [==============================] - 2s 2ms/step - loss: 0.0057 - accuracy: 0.9981 - val_loss: 0.0695 - val_accuracy: 0.9868\n",
      "Epoch 22/24\n",
      "960/960 [==============================] - 2s 3ms/step - loss: 0.0069 - accuracy: 0.9976 - val_loss: 0.0607 - val_accuracy: 0.9881\n",
      "Epoch 23/24\n",
      "960/960 [==============================] - 2s 2ms/step - loss: 0.0060 - accuracy: 0.9980 - val_loss: 0.0608 - val_accuracy: 0.9877\n",
      "Epoch 24/24\n",
      "960/960 [==============================] - 2s 2ms/step - loss: 0.0056 - accuracy: 0.9981 - val_loss: 0.0650 - val_accuracy: 0.9870\n"
     ]
    },
    {
     "data": {
      "text/plain": [
       "<keras.callbacks.History at 0x7f9accf84cd0>"
      ]
     },
     "execution_count": 6,
     "metadata": {},
     "output_type": "execute_result"
    }
   ],
   "source": [
    "model.fit(x_train, y_train, epochs=24, batch_size=50, validation_split=0.2)"
   ]
  },
  {
   "cell_type": "code",
   "execution_count": 8,
   "id": "0814f821",
   "metadata": {},
   "outputs": [
    {
     "name": "stdout",
     "output_type": "stream",
     "text": [
      "Model: \"sequential\"\n",
      "_________________________________________________________________\n",
      " Layer (type)                Output Shape              Param #   \n",
      "=================================================================\n",
      " conv2d (Conv2D)             (50, 26, 26, 6)           60        \n",
      "                                                                 \n",
      " average_pooling2d (AverageP  (50, 13, 13, 6)          0         \n",
      " ooling2D)                                                       \n",
      "                                                                 \n",
      " conv2d_1 (Conv2D)           (50, 11, 11, 16)          880       \n",
      "                                                                 \n",
      " average_pooling2d_1 (Averag  (50, 5, 5, 16)           0         \n",
      " ePooling2D)                                                     \n",
      "                                                                 \n",
      " flatten (Flatten)           (50, 400)                 0         \n",
      "                                                                 \n",
      " dense (Dense)               (50, 120)                 48120     \n",
      "                                                                 \n",
      " dense_1 (Dense)             (50, 84)                  10164     \n",
      "                                                                 \n",
      " dense_2 (Dense)             (50, 10)                  850       \n",
      "                                                                 \n",
      "=================================================================\n",
      "Total params: 60,074\n",
      "Trainable params: 60,074\n",
      "Non-trainable params: 0\n",
      "_________________________________________________________________\n"
     ]
    }
   ],
   "source": [
    "model.summary()"
   ]
  },
  {
   "cell_type": "code",
   "execution_count": null,
   "id": "08cee9ec",
   "metadata": {},
   "outputs": [],
   "source": []
  }
 ],
 "metadata": {
  "kernelspec": {
   "display_name": "Python 3",
   "language": "python",
   "name": "python3"
  },
  "language_info": {
   "codemirror_mode": {
    "name": "ipython",
    "version": 3
   },
   "file_extension": ".py",
   "mimetype": "text/x-python",
   "name": "python",
   "nbconvert_exporter": "python",
   "pygments_lexer": "ipython3",
   "version": "3.8.5"
  }
 },
 "nbformat": 4,
 "nbformat_minor": 5
}
